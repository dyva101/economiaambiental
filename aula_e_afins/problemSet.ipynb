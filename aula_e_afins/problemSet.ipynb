{
 "cells": [
  {
   "cell_type": "code",
   "execution_count": 13,
   "metadata": {},
   "outputs": [],
   "source": [
    "import pandas as pd\n",
    "import geopandas as gpd\n",
    "import numpy as np"
   ]
  },
  {
   "cell_type": "code",
   "execution_count": 14,
   "metadata": {},
   "outputs": [
    {
     "data": {
      "text/plain": [
       "0    Chemin Eugene-Rigot 2A, 1202 Geneva, Switzerland\n",
       "1      Avenue de la Paix 17, 1202 Geneva, Switzerland\n",
       "2                        Paris, Ile de France, France\n",
       "3                           Muenchen, Bayern, Germany\n",
       "4                            SW1A 1AA, United Kingdom\n",
       "Name: address, dtype: object"
      ]
     },
     "execution_count": 14,
     "metadata": {},
     "output_type": "execute_result"
    }
   ],
   "source": [
    "df = pd.DataFrame([\n",
    "['HEI campus',  'Chemin Eugene-Rigot 2A, 1202 Geneva, Switzerland'],\n",
    "['Museum of Red Cross and Red Crescent',    'Avenue de la Paix 17, 1202 Geneva, Switzerland'],\n",
    "['Paris',   'Paris, Ile de France, France'],\n",
    "['Munich',  'Muenchen, Bayern, Germany'],\n",
    "['Buckingham Palace',   'SW1A 1AA, United Kingdom']\n",
    "], columns = [\"location\", \"address\"])\n",
    "\n",
    "df.address"
   ]
  },
  {
   "cell_type": "code",
   "execution_count": 15,
   "metadata": {},
   "outputs": [
    {
     "ename": "ModuleNotFoundError",
     "evalue": "No module named 'geopy'",
     "output_type": "error",
     "traceback": [
      "\u001b[1;31m---------------------------------------------------------------------------\u001b[0m",
      "\u001b[1;31mModuleNotFoundError\u001b[0m                       Traceback (most recent call last)",
      "Cell \u001b[1;32mIn[15], line 1\u001b[0m\n\u001b[1;32m----> 1\u001b[0m location \u001b[38;5;241m=\u001b[39m \u001b[43mgpd\u001b[49m\u001b[38;5;241;43m.\u001b[39;49m\u001b[43mtools\u001b[49m\u001b[38;5;241;43m.\u001b[39;49m\u001b[43mgeocode\u001b[49m\u001b[43m(\u001b[49m\u001b[43mdf\u001b[49m\u001b[38;5;241;43m.\u001b[39;49m\u001b[43maddress\u001b[49m\u001b[43m)\u001b[49m\n\u001b[0;32m      3\u001b[0m location\n",
      "File \u001b[1;32md:\\Users\\B51115\\AppData\\Local\\Programs\\Python\\Python312\\Lib\\site-packages\\geopandas\\tools\\geocoding.py:65\u001b[0m, in \u001b[0;36mgeocode\u001b[1;34m(strings, provider, **kwargs)\u001b[0m\n\u001b[0;32m     63\u001b[0m \u001b[38;5;28;01mif\u001b[39;00m provider \u001b[38;5;129;01mis\u001b[39;00m \u001b[38;5;28;01mNone\u001b[39;00m:\n\u001b[0;32m     64\u001b[0m     provider \u001b[38;5;241m=\u001b[39m \u001b[38;5;124m\"\u001b[39m\u001b[38;5;124mphoton\u001b[39m\u001b[38;5;124m\"\u001b[39m\n\u001b[1;32m---> 65\u001b[0m throttle_time \u001b[38;5;241m=\u001b[39m \u001b[43m_get_throttle_time\u001b[49m\u001b[43m(\u001b[49m\u001b[43mprovider\u001b[49m\u001b[43m)\u001b[49m\n\u001b[0;32m     67\u001b[0m \u001b[38;5;28;01mreturn\u001b[39;00m _query(strings, \u001b[38;5;28;01mTrue\u001b[39;00m, provider, throttle_time, \u001b[38;5;241m*\u001b[39m\u001b[38;5;241m*\u001b[39mkwargs)\n",
      "File \u001b[1;32md:\\Users\\B51115\\AppData\\Local\\Programs\\Python\\Python312\\Lib\\site-packages\\geopandas\\tools\\geocoding.py:16\u001b[0m, in \u001b[0;36m_get_throttle_time\u001b[1;34m(provider)\u001b[0m\n\u001b[0;32m     11\u001b[0m \u001b[38;5;28;01mdef\u001b[39;00m \u001b[38;5;21m_get_throttle_time\u001b[39m(provider):\n\u001b[0;32m     12\u001b[0m \u001b[38;5;250m    \u001b[39m\u001b[38;5;124;03m\"\"\"\u001b[39;00m\n\u001b[0;32m     13\u001b[0m \u001b[38;5;124;03m    Amount of time to wait between requests to a geocoding API, for providers\u001b[39;00m\n\u001b[0;32m     14\u001b[0m \u001b[38;5;124;03m    that specify rate limits in their terms of service.\u001b[39;00m\n\u001b[0;32m     15\u001b[0m \u001b[38;5;124;03m    \"\"\"\u001b[39;00m\n\u001b[1;32m---> 16\u001b[0m     \u001b[38;5;28;01mimport\u001b[39;00m \u001b[38;5;21;01mgeopy\u001b[39;00m\u001b[38;5;21;01m.\u001b[39;00m\u001b[38;5;21;01mgeocoders\u001b[39;00m\n\u001b[0;32m     18\u001b[0m     \u001b[38;5;66;03m# https://operations.osmfoundation.org/policies/nominatim/\u001b[39;00m\n\u001b[0;32m     19\u001b[0m     \u001b[38;5;28;01mif\u001b[39;00m provider \u001b[38;5;241m==\u001b[39m geopy\u001b[38;5;241m.\u001b[39mgeocoders\u001b[38;5;241m.\u001b[39mNominatim:\n",
      "\u001b[1;31mModuleNotFoundError\u001b[0m: No module named 'geopy'"
     ]
    }
   ],
   "source": [
    "location = gpd.tools.geocode(df.address)\n",
    "\n",
    "location"
   ]
  }
 ],
 "metadata": {
  "kernelspec": {
   "display_name": "Python 3",
   "language": "python",
   "name": "python3"
  },
  "language_info": {
   "codemirror_mode": {
    "name": "ipython",
    "version": 3
   },
   "file_extension": ".py",
   "mimetype": "text/x-python",
   "name": "python",
   "nbconvert_exporter": "python",
   "pygments_lexer": "ipython3",
   "version": "3.12.2"
  }
 },
 "nbformat": 4,
 "nbformat_minor": 2
}
