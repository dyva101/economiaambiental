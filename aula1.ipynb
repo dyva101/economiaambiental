{
 "cells": [
  {
   "cell_type": "code",
   "execution_count": null,
   "id": "9d4c9bf7-ffe7-4f1a-b5cb-ed84ce50cefb",
   "metadata": {},
   "outputs": [],
   "source": [
    "#Comentários!"
   ]
  },
  {
   "cell_type": "markdown",
   "id": "54413a31-0c16-4d2f-ac0f-fa69dd4c54b0",
   "metadata": {},
   "source": [
    "PRINT"
   ]
  },
  {
   "cell_type": "code",
   "execution_count": null,
   "id": "88f63c47-2c1e-438a-a875-a9916b2b927f",
   "metadata": {},
   "outputs": [],
   "source": [
    "print(\"Introdução à Python - ECONOMAM\")"
   ]
  },
  {
   "cell_type": "code",
   "execution_count": null,
   "id": "09b28994-56d3-43cf-b382-0c1209914c27",
   "metadata": {},
   "outputs": [],
   "source": [
    "print(1)"
   ]
  },
  {
   "cell_type": "markdown",
   "id": "3155c618-2cbb-4954-b7a3-a85f54902c3e",
   "metadata": {},
   "source": [
    "NÚMEROS"
   ]
  },
  {
   "cell_type": "code",
   "execution_count": 2,
   "id": "e644a46a-9047-48f3-99c2-bf6fb26e9fc7",
   "metadata": {},
   "outputs": [
    {
     "name": "stdout",
     "output_type": "stream",
     "text": [
      "4\n"
     ]
    }
   ],
   "source": [
    "print(2*2) #número inteiro"
   ]
  },
  {
   "cell_type": "code",
   "execution_count": 1,
   "id": "325883e8-b808-4847-a6f1-21404b200faf",
   "metadata": {},
   "outputs": [
    {
     "name": "stdout",
     "output_type": "stream",
     "text": [
      "2\n"
     ]
    }
   ],
   "source": [
    "print(5//2) #divisão inteira"
   ]
  },
  {
   "cell_type": "code",
   "execution_count": null,
   "id": "14f626c9-131d-4a89-8026-95a32f4cc6b1",
   "metadata": {},
   "outputs": [],
   "source": [
    "print(5.0/2) #float, números de dupla precisão"
   ]
  },
  {
   "cell_type": "markdown",
   "id": "a877461d-59c6-48ab-8a1c-2fbe4058a124",
   "metadata": {},
   "source": [
    "VARIÁVEIS"
   ]
  },
  {
   "cell_type": "code",
   "execution_count": 4,
   "id": "2d296a27-22c1-4184-a603-a6bb3754d65a",
   "metadata": {},
   "outputs": [
    {
     "name": "stdout",
     "output_type": "stream",
     "text": [
      "hello world\n"
     ]
    }
   ],
   "source": [
    "a = 'hello'\n",
    "b = ' world'\n",
    "print(a+b)"
   ]
  },
  {
   "cell_type": "code",
   "execution_count": 5,
   "id": "aeef9813-dc04-48b4-9dab-d6833d4d97d3",
   "metadata": {},
   "outputs": [
    {
     "name": "stdout",
     "output_type": "stream",
     "text": [
      "2\n"
     ]
    }
   ],
   "source": [
    "a = 2\n",
    "print(a)"
   ]
  },
  {
   "cell_type": "code",
   "execution_count": 6,
   "id": "550b807e-e46f-4ece-9439-d949b1945faf",
   "metadata": {},
   "outputs": [
    {
     "name": "stdout",
     "output_type": "stream",
     "text": [
      "4\n"
     ]
    }
   ],
   "source": [
    "a += 2\n",
    "print(a)"
   ]
  },
  {
   "cell_type": "markdown",
   "id": "dee7122e-2ec4-4c78-9a8f-c916955f3116",
   "metadata": {},
   "source": [
    "Booleanos"
   ]
  },
  {
   "cell_type": "code",
   "execution_count": null,
   "id": "ba391ea6-d3f9-4a43-bf45-e76558e1137d",
   "metadata": {},
   "outputs": [],
   "source": [
    "a = True\n",
    "b = False"
   ]
  },
  {
   "cell_type": "markdown",
   "id": "114ab0df-4e13-4451-8382-77024de94346",
   "metadata": {},
   "source": [
    "Listas"
   ]
  },
  {
   "cell_type": "code",
   "execution_count": 7,
   "id": "851fe1ac-077e-4bc3-ae7d-62fe97212d5e",
   "metadata": {},
   "outputs": [
    {
     "name": "stdout",
     "output_type": "stream",
     "text": [
      "[1, 2, 3]\n"
     ]
    }
   ],
   "source": [
    "a = [1,2,3]\n",
    "print(a)"
   ]
  },
  {
   "cell_type": "code",
   "execution_count": 13,
   "id": "905f3ad1-a45f-4ef7-9ee6-0688a44b4e45",
   "metadata": {},
   "outputs": [
    {
     "name": "stdout",
     "output_type": "stream",
     "text": [
      "[1, 2, 3, ['eu sei', 'que te amo']]\n"
     ]
    }
   ],
   "source": [
    "a.append(['eu sei', 'que te amo']) #listas aninhadas\n",
    "print(a)"
   ]
  },
  {
   "cell_type": "markdown",
   "id": "4a311000-29a2-43bc-a7c5-29f90271204a",
   "metadata": {},
   "source": [
    "Referências e Valores"
   ]
  },
  {
   "cell_type": "code",
   "execution_count": 14,
   "id": "7522b942-b458-49e8-a44f-173a489d62e3",
   "metadata": {},
   "outputs": [],
   "source": [
    "a = [1,2]\n",
    "b = a"
   ]
  },
  {
   "cell_type": "code",
   "execution_count": 15,
   "id": "528adf58-906c-496b-b158-ba4d7f669d75",
   "metadata": {},
   "outputs": [],
   "source": [
    "a.append(3)"
   ]
  },
  {
   "cell_type": "code",
   "execution_count": 16,
   "id": "3d205e80-09ac-47f6-ac50-bdb9c7ff3e65",
   "metadata": {},
   "outputs": [
    {
     "name": "stdout",
     "output_type": "stream",
     "text": [
      "[1, 2, 3]\n",
      "[1, 2, 3]\n"
     ]
    }
   ],
   "source": [
    "print(a)\n",
    "print(b)"
   ]
  },
  {
   "cell_type": "markdown",
   "id": "3d0458eb-b207-4e28-a9cc-fd2161203cb1",
   "metadata": {},
   "source": [
    "CONTROLE DE FLUXO"
   ]
  },
  {
   "cell_type": "code",
   "execution_count": 17,
   "id": "f5cb450b-9ed0-4a2c-a96f-b78ceaf63906",
   "metadata": {},
   "outputs": [],
   "source": [
    "a = range(10)"
   ]
  },
  {
   "cell_type": "code",
   "execution_count": 18,
   "id": "6e0bdfbf-4b92-4beb-9968-a1db175932b7",
   "metadata": {},
   "outputs": [
    {
     "name": "stdout",
     "output_type": "stream",
     "text": [
      "range(0, 10)\n",
      "[0, 1, 2, 3, 4, 5, 6, 7, 8, 9]\n"
     ]
    }
   ],
   "source": [
    "print(a)\n",
    "print(list(a))"
   ]
  },
  {
   "cell_type": "code",
   "execution_count": 19,
   "id": "c2e72639-06df-41e9-8950-ed206883ec02",
   "metadata": {},
   "outputs": [
    {
     "name": "stdout",
     "output_type": "stream",
     "text": [
      "0\n",
      "1\n",
      "2\n",
      "3\n",
      "4\n",
      "5\n",
      "6\n",
      "7\n",
      "8\n",
      "9\n"
     ]
    }
   ],
   "source": [
    "for k in a:\n",
    "    print(k)"
   ]
  },
  {
   "cell_type": "code",
   "execution_count": 24,
   "id": "6ea620d8-0e35-4ee1-ae52-fc2ad94a2858",
   "metadata": {},
   "outputs": [
    {
     "name": "stdout",
     "output_type": "stream",
     "text": [
      "otávio\n",
      "é\n",
      "um\n",
      "tesão\n",
      "\n",
      "\n",
      "otávio\n",
      "é\n",
      "um\n",
      "tesão\n",
      "\n",
      "\n",
      "otávio\n",
      "é\n",
      "um\n",
      "tesão\n",
      "\n",
      "\n"
     ]
    }
   ],
   "source": [
    "a = ['otávio', 'é', 'um', 'tesão']\n",
    "count = len(a)\n",
    "k = 1\n",
    "while k<count:\n",
    "    for word in a:\n",
    "        print(word)\n",
    "    print('\\n')\n",
    "    k += 1"
   ]
  },
  {
   "cell_type": "markdown",
   "id": "7241b3ab-8e2e-4f24-b284-621d200406e2",
   "metadata": {},
   "source": [
    "ENUMERATE"
   ]
  },
  {
   "cell_type": "code",
   "execution_count": null,
   "id": "1b2ef85b-ce85-4446-932d-dee9c6124ae6",
   "metadata": {},
   "outputs": [],
   "source": [
    "#VER SOBRE ENUMERADE"
   ]
  },
  {
   "cell_type": "markdown",
   "id": "6b4b69a6-8c7d-4092-a734-5a211f9d8e48",
   "metadata": {},
   "source": [
    "FUNÇÕES"
   ]
  },
  {
   "cell_type": "code",
   "execution_count": 25,
   "id": "48893320-04f6-4a79-a907-ddc3fd498dcc",
   "metadata": {},
   "outputs": [],
   "source": [
    "def somadois(x):\n",
    "    return x+2"
   ]
  },
  {
   "cell_type": "code",
   "execution_count": 26,
   "id": "9a45282e-ab15-4667-9063-d48e21a2eba6",
   "metadata": {},
   "outputs": [
    {
     "data": {
      "text/plain": [
       "7"
      ]
     },
     "execution_count": 26,
     "metadata": {},
     "output_type": "execute_result"
    }
   ],
   "source": [
    "somadois(5)"
   ]
  },
  {
   "cell_type": "code",
   "execution_count": 27,
   "id": "d5814815-f101-4505-9734-75a1fc742bef",
   "metadata": {},
   "outputs": [],
   "source": [
    "def hello():\n",
    "    print('hello')"
   ]
  },
  {
   "cell_type": "code",
   "execution_count": 28,
   "id": "9450385e-f502-4772-a469-a809eb5debab",
   "metadata": {},
   "outputs": [
    {
     "name": "stdout",
     "output_type": "stream",
     "text": [
      "hello\n"
     ]
    }
   ],
   "source": [
    "hello()"
   ]
  },
  {
   "cell_type": "code",
   "execution_count": null,
   "id": "484b7f7b-0b4e-4592-8ae5-5319a306b79a",
   "metadata": {},
   "outputs": [],
   "source": []
  }
 ],
 "metadata": {
  "kernelspec": {
   "display_name": "Python 3 (ipykernel)",
   "language": "python",
   "name": "python3"
  },
  "language_info": {
   "codemirror_mode": {
    "name": "ipython",
    "version": 3
   },
   "file_extension": ".py",
   "mimetype": "text/x-python",
   "name": "python",
   "nbconvert_exporter": "python",
   "pygments_lexer": "ipython3",
   "version": "3.12.1"
  }
 },
 "nbformat": 4,
 "nbformat_minor": 5
}
