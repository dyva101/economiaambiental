{
 "cells": [
  {
   "cell_type": "markdown",
   "metadata": {},
   "source": [
    "GEOCODING"
   ]
  },
  {
   "cell_type": "code",
   "execution_count": null,
   "metadata": {},
   "outputs": [],
   "source": [
    "import pandas as pd\n",
    "import geopandas as gpd\n",
    "import numpy as np"
   ]
  },
  {
   "cell_type": "code",
   "execution_count": null,
   "metadata": {},
   "outputs": [],
   "source": [
    "df = pd.DataFrame([\n",
    "['HEI campus',  'Chemin Eugene-Rigot 2A, 1202 Geneva, Switzerland'],\n",
    "['Museum of Red Cross and Red Crescent',    'Avenue de la Paix 17, 1202 Geneva, Switzerland'],\n",
    "['Paris',   'Paris, Ile de France, France'],\n",
    "['Munich',  'Muenchen, Bayern, Germany'],\n",
    "['Buckingham Palace',   'SW1A 1AA, United Kingdom']\n",
    "], columns = [\"location\", \"address\"])\n",
    "\n",
    "df.address"
   ]
  },
  {
   "cell_type": "code",
   "execution_count": null,
   "metadata": {},
   "outputs": [],
   "source": [
    "location = gpd.tools.geocode(df.address)\n",
    "\n",
    "location"
   ]
  },
  {
   "cell_type": "code",
   "execution_count": null,
   "metadata": {},
   "outputs": [],
   "source": []
  }
 ],
 "metadata": {
  "language_info": {
   "name": "python"
  }
 },
 "nbformat": 4,
 "nbformat_minor": 2
}
